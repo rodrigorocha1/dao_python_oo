{
 "cells": [
  {
   "cell_type": "code",
   "execution_count": 120,
   "outputs": [],
   "source": [
    "import mysql.connector\n",
    "from mysql.connector.errors import DataError\n",
    "from mysql.connector.errors import Error"
   ],
   "metadata": {
    "collapsed": false
   }
  },
  {
   "cell_type": "code",
   "execution_count": 107,
   "outputs": [
    {
     "ename": "DatabaseError",
     "evalue": "2003 (HY000): Can't connect to MySQL server on 'localhost:3306' (10061)",
     "output_type": "error",
     "traceback": [
      "\u001B[1;31m---------------------------------------------------------------------------\u001B[0m",
      "\u001B[1;31mMySQLInterfaceError\u001B[0m                       Traceback (most recent call last)",
      "File \u001B[1;32mD:\\ProgramData\\Miniconda3\\envs\\dao_python_oo\\lib\\site-packages\\mysql\\connector\\connection_cext.py:268\u001B[0m, in \u001B[0;36mCMySQLConnection._open_connection\u001B[1;34m(self)\u001B[0m\n\u001B[0;32m    267\u001B[0m \u001B[38;5;28;01mtry\u001B[39;00m:\n\u001B[1;32m--> 268\u001B[0m     \u001B[38;5;28mself\u001B[39m\u001B[38;5;241m.\u001B[39m_cmysql\u001B[38;5;241m.\u001B[39mconnect(\u001B[38;5;241m*\u001B[39m\u001B[38;5;241m*\u001B[39mcnx_kwargs)\n\u001B[0;32m    269\u001B[0m     \u001B[38;5;28mself\u001B[39m\u001B[38;5;241m.\u001B[39m_cmysql\u001B[38;5;241m.\u001B[39mconverter_str_fallback \u001B[38;5;241m=\u001B[39m \u001B[38;5;28mself\u001B[39m\u001B[38;5;241m.\u001B[39m_converter_str_fallback\n",
      "\u001B[1;31mMySQLInterfaceError\u001B[0m: Can't connect to MySQL server on 'localhost:3306' (10061)",
      "\nThe above exception was the direct cause of the following exception:\n",
      "\u001B[1;31mDatabaseError\u001B[0m                             Traceback (most recent call last)",
      "Cell \u001B[1;32mIn [107], line 1\u001B[0m\n\u001B[1;32m----> 1\u001B[0m conexao \u001B[38;5;241m=\u001B[39m \u001B[43mmysql\u001B[49m\u001B[38;5;241;43m.\u001B[39;49m\u001B[43mconnector\u001B[49m\u001B[38;5;241;43m.\u001B[39;49m\u001B[43mconnect\u001B[49m\u001B[43m(\u001B[49m\n\u001B[0;32m      2\u001B[0m \u001B[43m    \u001B[49m\u001B[43mhost\u001B[49m\u001B[38;5;241;43m=\u001B[39;49m\u001B[38;5;124;43m'\u001B[39;49m\u001B[38;5;124;43mlocalhost\u001B[39;49m\u001B[38;5;124;43m'\u001B[39;49m\u001B[43m,\u001B[49m\n\u001B[0;32m      3\u001B[0m \u001B[43m    \u001B[49m\u001B[43muser\u001B[49m\u001B[38;5;241;43m=\u001B[39;49m\u001B[38;5;124;43m'\u001B[39;49m\u001B[38;5;124;43mroot\u001B[39;49m\u001B[38;5;124;43m'\u001B[39;49m\u001B[43m,\u001B[49m\n\u001B[0;32m      4\u001B[0m \u001B[43m    \u001B[49m\u001B[43mpassword\u001B[49m\u001B[38;5;241;43m=\u001B[39;49m\u001B[38;5;124;43m'\u001B[39;49m\u001B[38;5;124;43m123456\u001B[39;49m\u001B[38;5;124;43m'\u001B[39;49m\u001B[43m,\u001B[49m\n\u001B[0;32m      5\u001B[0m \u001B[43m    \u001B[49m\u001B[43mdatabase\u001B[49m\u001B[38;5;241;43m=\u001B[39;49m\u001B[38;5;124;43m'\u001B[39;49m\u001B[38;5;124;43mvendedor\u001B[39;49m\u001B[38;5;124;43m'\u001B[39;49m\n\u001B[0;32m      6\u001B[0m \u001B[43m)\u001B[49m\n",
      "File \u001B[1;32mD:\\ProgramData\\Miniconda3\\envs\\dao_python_oo\\lib\\site-packages\\mysql\\connector\\pooling.py:286\u001B[0m, in \u001B[0;36mconnect\u001B[1;34m(*args, **kwargs)\u001B[0m\n\u001B[0;32m    283\u001B[0m         \u001B[38;5;28;01mraise\u001B[39;00m \u001B[38;5;167;01mImportError\u001B[39;00m(ERROR_NO_CEXT)\n\u001B[0;32m    285\u001B[0m \u001B[38;5;28;01mif\u001B[39;00m CMySQLConnection \u001B[38;5;129;01mand\u001B[39;00m \u001B[38;5;129;01mnot\u001B[39;00m use_pure:\n\u001B[1;32m--> 286\u001B[0m     \u001B[38;5;28;01mreturn\u001B[39;00m CMySQLConnection(\u001B[38;5;241m*\u001B[39margs, \u001B[38;5;241m*\u001B[39m\u001B[38;5;241m*\u001B[39mkwargs)\n\u001B[0;32m    287\u001B[0m \u001B[38;5;28;01mreturn\u001B[39;00m MySQLConnection(\u001B[38;5;241m*\u001B[39margs, \u001B[38;5;241m*\u001B[39m\u001B[38;5;241m*\u001B[39mkwargs)\n",
      "File \u001B[1;32mD:\\ProgramData\\Miniconda3\\envs\\dao_python_oo\\lib\\site-packages\\mysql\\connector\\connection_cext.py:101\u001B[0m, in \u001B[0;36mCMySQLConnection.__init__\u001B[1;34m(self, **kwargs)\u001B[0m\n\u001B[0;32m     98\u001B[0m \u001B[38;5;28msuper\u001B[39m()\u001B[38;5;241m.\u001B[39m\u001B[38;5;21m__init__\u001B[39m()\n\u001B[0;32m    100\u001B[0m \u001B[38;5;28;01mif\u001B[39;00m kwargs:\n\u001B[1;32m--> 101\u001B[0m     \u001B[38;5;28mself\u001B[39m\u001B[38;5;241m.\u001B[39mconnect(\u001B[38;5;241m*\u001B[39m\u001B[38;5;241m*\u001B[39mkwargs)\n",
      "File \u001B[1;32mD:\\ProgramData\\Miniconda3\\envs\\dao_python_oo\\lib\\site-packages\\mysql\\connector\\abstracts.py:1108\u001B[0m, in \u001B[0;36mMySQLConnectionAbstract.connect\u001B[1;34m(self, **kwargs)\u001B[0m\n\u001B[0;32m   1105\u001B[0m     \u001B[38;5;28mself\u001B[39m\u001B[38;5;241m.\u001B[39mconfig(\u001B[38;5;241m*\u001B[39m\u001B[38;5;241m*\u001B[39mkwargs)\n\u001B[0;32m   1107\u001B[0m \u001B[38;5;28mself\u001B[39m\u001B[38;5;241m.\u001B[39mdisconnect()\n\u001B[1;32m-> 1108\u001B[0m \u001B[38;5;28;43mself\u001B[39;49m\u001B[38;5;241;43m.\u001B[39;49m\u001B[43m_open_connection\u001B[49m\u001B[43m(\u001B[49m\u001B[43m)\u001B[49m\n\u001B[0;32m   1109\u001B[0m \u001B[38;5;66;03m# Server does not allow to run any other statement different from ALTER\u001B[39;00m\n\u001B[0;32m   1110\u001B[0m \u001B[38;5;66;03m# when user's password has been expired.\u001B[39;00m\n\u001B[0;32m   1111\u001B[0m \u001B[38;5;28;01mif\u001B[39;00m \u001B[38;5;129;01mnot\u001B[39;00m \u001B[38;5;28mself\u001B[39m\u001B[38;5;241m.\u001B[39m_client_flags \u001B[38;5;241m&\u001B[39m ClientFlag\u001B[38;5;241m.\u001B[39mCAN_HANDLE_EXPIRED_PASSWORDS:\n",
      "File \u001B[1;32mD:\\ProgramData\\Miniconda3\\envs\\dao_python_oo\\lib\\site-packages\\mysql\\connector\\connection_cext.py:273\u001B[0m, in \u001B[0;36mCMySQLConnection._open_connection\u001B[1;34m(self)\u001B[0m\n\u001B[0;32m    271\u001B[0m         \u001B[38;5;28mself\u001B[39m\u001B[38;5;241m.\u001B[39mconverter\u001B[38;5;241m.\u001B[39mstr_fallback \u001B[38;5;241m=\u001B[39m \u001B[38;5;28mself\u001B[39m\u001B[38;5;241m.\u001B[39m_converter_str_fallback\n\u001B[0;32m    272\u001B[0m \u001B[38;5;28;01mexcept\u001B[39;00m MySQLInterfaceError \u001B[38;5;28;01mas\u001B[39;00m err:\n\u001B[1;32m--> 273\u001B[0m     \u001B[38;5;28;01mraise\u001B[39;00m get_mysql_exception(\n\u001B[0;32m    274\u001B[0m         msg\u001B[38;5;241m=\u001B[39merr\u001B[38;5;241m.\u001B[39mmsg, errno\u001B[38;5;241m=\u001B[39merr\u001B[38;5;241m.\u001B[39merrno, sqlstate\u001B[38;5;241m=\u001B[39merr\u001B[38;5;241m.\u001B[39msqlstate\n\u001B[0;32m    275\u001B[0m     ) \u001B[38;5;28;01mfrom\u001B[39;00m \u001B[38;5;21;01merr\u001B[39;00m\n\u001B[0;32m    277\u001B[0m \u001B[38;5;28mself\u001B[39m\u001B[38;5;241m.\u001B[39m_do_handshake()\n",
      "\u001B[1;31mDatabaseError\u001B[0m: 2003 (HY000): Can't connect to MySQL server on 'localhost:3306' (10061)"
     ]
    }
   ],
   "source": [
    "conexao = mysql.connector.connect(\n",
    "    host='localhost',\n",
    "    user='root',\n",
    "    password='123456',\n",
    "    database='vendedor'\n",
    ")"
   ],
   "metadata": {
    "collapsed": false
   }
  },
  {
   "cell_type": "code",
   "execution_count": 47,
   "outputs": [],
   "source": [
    "cursor = conexao.cursor()"
   ],
   "metadata": {
    "collapsed": false
   }
  },
  {
   "cell_type": "markdown",
   "source": [
    "<p>Create</p>"
   ],
   "metadata": {
    "collapsed": false
   }
  },
  {
   "cell_type": "code",
   "execution_count": 75,
   "outputs": [],
   "source": [
    "id_vendedor = 3\n",
    "nome = 'vend3'\n",
    "segmento = 'Prata'"
   ],
   "metadata": {
    "collapsed": false
   }
  },
  {
   "cell_type": "code",
   "execution_count": 76,
   "outputs": [],
   "source": [
    "comando = f'INSERT INTO vendedor (id_vendedor, nome, segmento) 'f'VALUES ({id_vendedor}, \"{nome}\", \"{segmento}\")'"
   ],
   "metadata": {
    "collapsed": false
   }
  },
  {
   "cell_type": "code",
   "execution_count": 77,
   "outputs": [],
   "source": [
    "cursor.execute(comando)\n",
    "conexao.commit()"
   ],
   "metadata": {
    "collapsed": false
   }
  },
  {
   "cell_type": "code",
   "execution_count": 78,
   "outputs": [
    {
     "data": {
      "text/plain": "[(1, 'vend1', 'ouro'), (2, 'vend2', 'Prata'), (3, 'vend3', 'Prata')]"
     },
     "execution_count": 78,
     "metadata": {},
     "output_type": "execute_result"
    }
   ],
   "source": [
    "#Read\n",
    "comando = 'SELECT * FROM vendedor.vendedor'\n",
    "cursor.execute(comando)\n",
    "resultado = cursor.fetchall()\n",
    "resultado"
   ],
   "metadata": {
    "collapsed": false
   }
  },
  {
   "cell_type": "code",
   "execution_count": 94,
   "outputs": [],
   "source": [
    "#Update\n",
    "segmento = 'Ouro'\n",
    "id_vendedor = 3\n",
    "comando = f'UPDATE vendedor 'f'SET  segmento = \"{segmento}\" 'f'where id_vendedor = {id_vendedor}'\n",
    "\n",
    "cursor.execute(comando)\n",
    "conexao.commit()\n",
    "\n"
   ],
   "metadata": {
    "collapsed": false
   }
  },
  {
   "cell_type": "code",
   "execution_count": 91,
   "outputs": [
    {
     "data": {
      "text/plain": "'UPDATE vendedor SET  segmento = \"Ouro\" where id_vendedor = 3'"
     },
     "execution_count": 91,
     "metadata": {},
     "output_type": "execute_result"
    }
   ],
   "source": [
    "comando"
   ],
   "metadata": {
    "collapsed": false
   }
  },
  {
   "cell_type": "code",
   "execution_count": 103,
   "outputs": [],
   "source": [
    "#Delete\n",
    "\n",
    "id_vendedor = 3\n",
    "comando = f'DELETE from vendedor 'f'where id_vendedor = {id_vendedor} '\n",
    "\n",
    "\n"
   ],
   "metadata": {
    "collapsed": false
   }
  },
  {
   "cell_type": "code",
   "execution_count": 104,
   "outputs": [
    {
     "data": {
      "text/plain": "'DELETE from vendedor where id_vendedor = 3 '"
     },
     "execution_count": 104,
     "metadata": {},
     "output_type": "execute_result"
    }
   ],
   "source": [
    "comando"
   ],
   "metadata": {
    "collapsed": false
   }
  },
  {
   "cell_type": "code",
   "execution_count": 105,
   "outputs": [],
   "source": [
    "cursor.execute(comando)\n",
    "conexao.commit()"
   ],
   "metadata": {
    "collapsed": false
   }
  },
  {
   "cell_type": "code",
   "execution_count": 117,
   "outputs": [],
   "source": [
    "def conection_factory():\n",
    "    try:\n",
    "        conexao = mysql.connector.connect(\n",
    "            host='localhost',\n",
    "            user='root',\n",
    "            password='123456',\n",
    "            database='vendedor'\n",
    "        )\n",
    "        return conexao.cursor()\n",
    "    except mysql.connector.Error as err:\n",
    "        print(err.msg, '-', err.sqlstate, '-', err.errno, '-', err.args)\n",
    "\n",
    "\n",
    "    finally:\n",
    "        conexao.close()\n"
   ],
   "metadata": {
    "collapsed": false
   }
  },
  {
   "cell_type": "code",
   "execution_count": 111,
   "outputs": [
    {
     "data": {
      "text/plain": "mysql.connector.cursor_cext.CMySQLCursor"
     },
     "execution_count": 111,
     "metadata": {},
     "output_type": "execute_result"
    }
   ],
   "source": [
    "type(conection_factory())"
   ],
   "metadata": {
    "collapsed": false
   }
  },
  {
   "cell_type": "code",
   "execution_count": 116,
   "outputs": [
    {
     "name": "stdout",
     "output_type": "stream",
     "text": [
      "Can't connect to MySQL server on 'localhost:3306' (10061) - HY000 - 2003 - (2003, \"2003 (HY000): Can't connect to MySQL server on 'localhost:3306' (10061)\", 'HY000')\n"
     ]
    }
   ],
   "source": [
    "conection_factory()"
   ],
   "metadata": {
    "collapsed": false
   }
  },
  {
   "cell_type": "code",
   "execution_count": 119,
   "outputs": [
    {
     "data": {
      "text/plain": "<attribute 'args' of 'BaseException' objects>"
     },
     "execution_count": 119,
     "metadata": {},
     "output_type": "execute_result"
    }
   ],
   "source": [],
   "metadata": {
    "collapsed": false
   }
  }
 ],
 "metadata": {
  "kernelspec": {
   "display_name": "Python 3",
   "language": "python",
   "name": "python3"
  },
  "language_info": {
   "codemirror_mode": {
    "name": "ipython",
    "version": 2
   },
   "file_extension": ".py",
   "mimetype": "text/x-python",
   "name": "python",
   "nbconvert_exporter": "python",
   "pygments_lexer": "ipython2",
   "version": "2.7.6"
  }
 },
 "nbformat": 4,
 "nbformat_minor": 0
}
