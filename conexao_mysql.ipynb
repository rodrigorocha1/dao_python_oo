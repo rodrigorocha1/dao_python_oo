{
 "cells": [
  {
   "cell_type": "code",
   "execution_count": 1,
   "outputs": [],
   "source": [
    "import mysql.connector\n",
    "from mysql.connector.errors import DataError\n",
    "from mysql.connector.errors import Error"
   ],
   "metadata": {
    "collapsed": false
   }
  },
  {
   "cell_type": "code",
   "execution_count": 5,
   "outputs": [],
   "source": [
    "conexao = mysql.connector.connect(\n",
    "    host='localhost',\n",
    "    user='root',\n",
    "    password='123456',\n",
    "    database='vendedor',\n",
    "    auth_plugin='mysql_native_password'\n",
    ")"
   ],
   "metadata": {
    "collapsed": false
   }
  },
  {
   "cell_type": "code",
   "execution_count": 6,
   "outputs": [],
   "source": [
    "cursor = conexao.cursor()"
   ],
   "metadata": {
    "collapsed": false
   }
  },
  {
   "cell_type": "markdown",
   "source": [
    "<p>Create</p>"
   ],
   "metadata": {
    "collapsed": false
   }
  },
  {
   "cell_type": "code",
   "execution_count": 12,
   "outputs": [],
   "source": [
    "id_vendedor = 4\n",
    "nome = 'vend1'\n",
    "segmento = 'Prata'"
   ],
   "metadata": {
    "collapsed": false
   }
  },
  {
   "cell_type": "code",
   "execution_count": 13,
   "outputs": [],
   "source": [
    "comando = f'INSERT INTO vendedor (id_vendedor, nome, segmento)' \\\n",
    "           f'VALUES ({id_vendedor}, \"{nome}\", \"{segmento}\")'"
   ],
   "metadata": {
    "collapsed": false
   }
  },
  {
   "cell_type": "code",
   "execution_count": 14,
   "outputs": [],
   "source": [
    "cursor.execute(comando)\n",
    "conexao.commit()"
   ],
   "metadata": {
    "collapsed": false
   }
  },
  {
   "cell_type": "code",
   "execution_count": 11,
   "outputs": [
    {
     "data": {
      "text/plain": "[(1, 'vend1', 'ouro'), (2, 'vend2', 'Prata'), (3, 'vend3', 'Prata')]"
     },
     "execution_count": 11,
     "metadata": {},
     "output_type": "execute_result"
    }
   ],
   "source": [
    "#Read\n",
    "comando = 'SELECT * FROM vendedor.vendedor'\n",
    "cursor.execute(comando)\n",
    "resultado = cursor.fetchall()\n",
    "resultado"
   ],
   "metadata": {
    "collapsed": false
   }
  },
  {
   "cell_type": "code",
   "execution_count": 94,
   "outputs": [],
   "source": [
    "#Update\n",
    "segmento = 'Ouro'\n",
    "id_vendedor = 3\n",
    "comando = f'UPDATE vendedor 'f'SET  segmento = \"{segmento}\" 'f'where id_vendedor = {id_vendedor}'\n",
    "\n",
    "cursor.execute(comando)\n",
    "conexao.commit()\n",
    "\n"
   ],
   "metadata": {
    "collapsed": false
   }
  },
  {
   "cell_type": "code",
   "execution_count": 91,
   "outputs": [
    {
     "data": {
      "text/plain": "'UPDATE vendedor SET  segmento = \"Ouro\" where id_vendedor = 3'"
     },
     "execution_count": 91,
     "metadata": {},
     "output_type": "execute_result"
    }
   ],
   "source": [
    "comando"
   ],
   "metadata": {
    "collapsed": false
   }
  },
  {
   "cell_type": "code",
   "execution_count": 103,
   "outputs": [],
   "source": [
    "#Delete\n",
    "\n",
    "id_vendedor = 3\n",
    "comando = f'DELETE from vendedor 'f'where id_vendedor = {id_vendedor} '\n",
    "\n",
    "\n"
   ],
   "metadata": {
    "collapsed": false
   }
  },
  {
   "cell_type": "code",
   "execution_count": 104,
   "outputs": [
    {
     "data": {
      "text/plain": "'DELETE from vendedor where id_vendedor = 3 '"
     },
     "execution_count": 104,
     "metadata": {},
     "output_type": "execute_result"
    }
   ],
   "source": [
    "comando"
   ],
   "metadata": {
    "collapsed": false
   }
  },
  {
   "cell_type": "code",
   "execution_count": 105,
   "outputs": [],
   "source": [
    "cursor.execute(comando)\n",
    "conexao.commit()"
   ],
   "metadata": {
    "collapsed": false
   }
  },
  {
   "cell_type": "code",
   "execution_count": 117,
   "outputs": [],
   "source": [
    "def conection_factory():\n",
    "    try:\n",
    "        conexao = mysql.connector.connect(\n",
    "            host='localhost',\n",
    "            user='root',\n",
    "            password='123456',\n",
    "            database='vendedor'\n",
    "        )\n",
    "        return conexao.cursor()\n",
    "    except mysql.connector.Error as err:\n",
    "        print(err.msg, '-', err.sqlstate, '-', err.errno, '-', err.args)\n",
    "\n",
    "\n",
    "    finally:\n",
    "        conexao.close()\n"
   ],
   "metadata": {
    "collapsed": false
   }
  },
  {
   "cell_type": "code",
   "execution_count": 111,
   "outputs": [
    {
     "data": {
      "text/plain": "mysql.connector.cursor_cext.CMySQLCursor"
     },
     "execution_count": 111,
     "metadata": {},
     "output_type": "execute_result"
    }
   ],
   "source": [
    "type(conection_factory())"
   ],
   "metadata": {
    "collapsed": false
   }
  },
  {
   "cell_type": "code",
   "execution_count": 116,
   "outputs": [
    {
     "name": "stdout",
     "output_type": "stream",
     "text": [
      "Can't connect to MySQL server on 'localhost:3306' (10061) - HY000 - 2003 - (2003, \"2003 (HY000): Can't connect to MySQL server on 'localhost:3306' (10061)\", 'HY000')\n"
     ]
    }
   ],
   "source": [
    "conection_factory()"
   ],
   "metadata": {
    "collapsed": false
   }
  },
  {
   "cell_type": "code",
   "execution_count": 119,
   "outputs": [
    {
     "data": {
      "text/plain": "<attribute 'args' of 'BaseException' objects>"
     },
     "execution_count": 119,
     "metadata": {},
     "output_type": "execute_result"
    }
   ],
   "source": [],
   "metadata": {
    "collapsed": false
   }
  }
 ],
 "metadata": {
  "kernelspec": {
   "display_name": "Python 3",
   "language": "python",
   "name": "python3"
  },
  "language_info": {
   "codemirror_mode": {
    "name": "ipython",
    "version": 2
   },
   "file_extension": ".py",
   "mimetype": "text/x-python",
   "name": "python",
   "nbconvert_exporter": "python",
   "pygments_lexer": "ipython2",
   "version": "2.7.6"
  }
 },
 "nbformat": 4,
 "nbformat_minor": 0
}
